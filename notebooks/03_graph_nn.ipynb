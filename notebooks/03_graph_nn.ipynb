{
 "cells": [
  {
   "cell_type": "markdown",
   "id": "6h50kpo1a49",
   "source": "# Graph Neural Network Approach\n\nThis notebook implements a graph neural network (GNN) baseline using molecular graph representations. The GNN directly learns from atomic connectivity and bond information, augmented with Morgan fingerprints and MACCS keys for enhanced chemical feature representation.\n\nMulti-task learning is employed to predict all five polymer properties simultaneously, leveraging shared molecular patterns across targets whilst accommodating the small dataset constraints.",
   "metadata": {}
  },
  {
   "cell_type": "code",
   "id": "initial_id",
   "metadata": {
    "collapsed": true
   },
   "source": [
    "import importnb\n",
    "import joblib\n",
    "import pandas as pd\n",
    "from sklearn.metrics import mean_absolute_error\n",
    "from sklearn.model_selection import KFold\n",
    "from sklearn.preprocessing import StandardScaler\n",
    "from sklearn.model_selection import train_test_split\n",
    "from torch_molecule.predictor.gnn import GNNMolecularPredictor\n",
    "from tqdm import tqdm"
   ],
   "outputs": [],
   "execution_count": null
  },
  {
   "metadata": {},
   "cell_type": "code",
   "source": [
    "grad_boosting = importnb.Notebook.load_file(\"01_gradient_boosting.ipynb\", include_non_defs=False)\n",
    "\n",
    "train_data = grad_boosting.load_train_data()\n",
    "targets = [\"Tg\", \"FFV\", \"Tc\", \"Density\", \"Rg\"]"
   ],
   "id": "8ea3d53951fbacde",
   "outputs": [],
   "execution_count": null
  },
  {
   "metadata": {},
   "cell_type": "code",
   "source": [
    "def train_gnn(data: pd.DataFrame, validate: bool) -> tuple:\n",
    "    \"\"\"Trains a multi-task GNN-based predictor.\n",
    "\n",
    "    Args:\n",
    "        validate: Whether to use validation set to control early stopping.\n",
    "\n",
    "    Returns:\n",
    "        A tuple containing the trained GNNMolecularPredictor predictor and a StandardScaler for inputs.\n",
    "    \"\"\"\n",
    "    scaler = StandardScaler()\n",
    "\n",
    "    if validate:\n",
    "        train_idx, val_idx = train_test_split(\n",
    "            data.index,\n",
    "            test_size=0.2,\n",
    "            random_state=42\n",
    "        )\n",
    "        y_train = scaler.fit_transform(data.loc[train_idx, targets])\n",
    "        y_val = scaler.transform(data.loc[val_idx, targets])\n",
    "    else:\n",
    "        y_train = scaler.fit_transform(data.loc[:, targets])\n",
    "\n",
    "    predictor = GNNMolecularPredictor(\n",
    "        num_task=5,\n",
    "        num_layer=3,\n",
    "        hidden_size=160,\n",
    "        epochs=400 if validate else 140,\n",
    "        batch_size=64,\n",
    "        patience=120 if validate else 50,\n",
    "        augmented_feature=[\"morgan\", \"maccs\"],\n",
    "        use_lr_scheduler=True\n",
    "    )\n",
    "\n",
    "    if validate:\n",
    "        predictor.fit(\n",
    "            list(data.loc[train_idx, \"SMILES\"]), y_train,\n",
    "            list(data.loc[val_idx, \"SMILES\"]), y_val\n",
    "        )\n",
    "    else:\n",
    "        predictor.fit(list(data.loc[:, \"SMILES\"]), y_train)\n",
    "\n",
    "    return predictor, scaler"
   ],
   "id": "5cc1d288cb65e631",
   "outputs": [],
   "execution_count": null
  },
  {
   "metadata": {},
   "cell_type": "code",
   "source": [
    "oof_preds = pd.DataFrame(index=train_data.index)\n",
    "k_fold = KFold(n_splits=5, shuffle=True, random_state=42)\n",
    "\n",
    "for train_index, test_index in tqdm(\n",
    "    k_fold.split(train_data),\n",
    "    desc=f\"Evaluating GNN model\"\n",
    "):\n",
    "    train_subset, eval_subset = train_data.iloc[train_index], train_data.iloc[test_index]\n",
    "    predictor, scaler = train_gnn(train_subset, validate=False)\n",
    "    predictions = predictor.predict(list(eval_subset[\"SMILES\"]))[\"prediction\"]\n",
    "    predictions = scaler.inverse_transform(predictions)\n",
    "\n",
    "    for i, target in enumerate(targets):\n",
    "        oof_preds.loc[eval_subset.index, target] = predictions[:, i]"
   ],
   "id": "884f82bcd6da62b4",
   "outputs": [],
   "execution_count": null
  },
  {
   "metadata": {},
   "cell_type": "code",
   "source": [
    "for target in targets:\n",
    "    not_nan = train_data[target].notna()\n",
    "    mae = mean_absolute_error(oof_preds.loc[not_nan, target], train_data.loc[not_nan, target])\n",
    "    print(f\"{target} mae={mae}\")"
   ],
   "id": "415f2d83d9bf2459",
   "outputs": [],
   "execution_count": null
  },
  {
   "metadata": {},
   "cell_type": "code",
   "source": [
    "predictor, scaler = train_gnn(train_data, validate=False)\n",
    "\n",
    "predictor.save_to_local(\"../models/gnn/grin_predictor.pt\")\n",
    "joblib.dump(scaler, \"../models/gnn/scaler.pkl\")"
   ],
   "id": "bb22e1919e97ea4a",
   "outputs": [],
   "execution_count": null
  }
 ],
 "metadata": {
  "kernelspec": {
   "display_name": "Python 3",
   "language": "python",
   "name": "python3"
  },
  "language_info": {
   "codemirror_mode": {
    "name": "ipython",
    "version": 2
   },
   "file_extension": ".py",
   "mimetype": "text/x-python",
   "name": "python",
   "nbconvert_exporter": "python",
   "pygments_lexer": "ipython2",
   "version": "2.7.6"
  }
 },
 "nbformat": 4,
 "nbformat_minor": 5
}
