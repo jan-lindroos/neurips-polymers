{
 "cells": [
  {
   "cell_type": "markdown",
   "id": "uydgkimtndf",
   "source": [
    "# Model Ensemble Optimisation\n",
    "\n",
    "This notebook combines predictions from the gradient boosting and graph neural network approaches using weighted averaging. Optimal ensemble weights are determined through minimisation of mean absolute error on out-of-fold predictions.\n",
    "\n",
    "A simple approach (rather than meta-learning) is used to avoid overfitting."
   ],
   "metadata": {}
  },
  {
   "metadata": {
    "ExecuteTime": {
     "end_time": "2025-09-19T14:40:37.916817Z",
     "start_time": "2025-09-19T14:40:33.497678Z"
    }
   },
   "cell_type": "code",
   "source": [
    "import pandas as pd\n",
    "from scipy.optimize import minimize\n",
    "from sklearn.metrics import mean_absolute_error"
   ],
   "id": "2c375d1d6a9d2408",
   "outputs": [],
   "execution_count": 1
  },
  {
   "metadata": {},
   "cell_type": "code",
   "source": [
    "gnn_preds = pd.read_csv('../data/gnn_preds.csv')\n",
    "train_data = pd.read_csv('../data/train.csv')\n",
    "ag_preds = pd.read_csv('../data/ag_preds.csv')\n",
    "\n",
    "properties = train_data.columns[-5:]"
   ],
   "id": "d9ee656d223ee49e",
   "outputs": [],
   "execution_count": null
  },
  {
   "metadata": {},
   "cell_type": "code",
   "source": [
    "def optimize_weights(gnn_pred: pd.Series, ag_pred: pd.Series, true_values: pd.Series):\n",
    "    \"\"\"Finds the optimal weights to combine GNN predictions and an AG predictions.\n",
    "\n",
    "    Returns:\n",
    "        An iterable containing the optimal weights, which sum to 1.\n",
    "    \"\"\"\n",
    "    def mae_loss(weights: list):\n",
    "        \"\"\"Computes the mean absolute error with respect to weights.\"\"\"\n",
    "        w1, w2 = weights\n",
    "        ensemble_pred = w1 * gnn_pred + w2 * ag_pred\n",
    "        return mean_absolute_error(true_values, ensemble_pred)\n",
    "\n",
    "    initial_weights = [0.5, 0.5]\n",
    "    constraint = {'type': 'eq', 'fun': lambda w: w[0] + w[1] - 1}\n",
    "    bounds = [(0, 1), (0, 1)]\n",
    "\n",
    "    result = minimize(mae_loss, initial_weights, method='SLSQP', bounds=bounds, constraints=constraint)\n",
    "    return result.x"
   ],
   "id": "18ff65062646a50b",
   "outputs": [],
   "execution_count": null
  },
  {
   "cell_type": "code",
   "id": "mq2fcm76ug8",
   "source": [
    "optimal_weights = {}\n",
    "\n",
    "for prop in properties:\n",
    "    mask = (~gnn_preds[prop].isna()) & (~ag_preds[prop].isna()) & (~train_data[prop].isna())\n",
    "    \n",
    "    if mask.sum() > 0:\n",
    "        gnn_valid = gnn_preds[prop][mask]\n",
    "        ag_valid = ag_preds[prop][mask]\n",
    "        true_valid = train_data[prop][mask]\n",
    "        \n",
    "        weights = optimize_weights(gnn_valid, ag_valid, true_valid)\n",
    "        optimal_weights[prop] = weights\n",
    "        \n",
    "        print(f\"{prop}: GNN weight = {weights[0]:.3f}, AG weight = {weights[1]:.3f}\")"
   ],
   "metadata": {},
   "outputs": [],
   "execution_count": null
  }
 ],
 "metadata": {
  "kernelspec": {
   "display_name": "Python 3",
   "language": "python",
   "name": "python3"
  },
  "language_info": {
   "codemirror_mode": {
    "name": "ipython",
    "version": 2
   },
   "file_extension": ".py",
   "mimetype": "text/x-python",
   "name": "python",
   "nbconvert_exporter": "python",
   "pygments_lexer": "ipython2",
   "version": "2.7.6"
  }
 },
 "nbformat": 4,
 "nbformat_minor": 5
}
